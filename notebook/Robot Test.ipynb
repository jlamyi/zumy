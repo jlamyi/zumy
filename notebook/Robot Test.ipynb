{
 "metadata": {
  "name": "",
  "signature": "sha256:d1ebf094e6ff658f9888aff57cbc985aef0dd54fda5dd6b53cc4dc0454615ca3"
 },
 "nbformat": 3,
 "nbformat_minor": 0,
 "worksheets": [
  {
   "cells": [
    {
     "cell_type": "markdown",
     "metadata": {},
     "source": [
      "<img src=\"http://robotics.eecs.berkeley.edu/~ronf/biomimetics-thin.jpg\">"
     ]
    },
    {
     "cell_type": "heading",
     "level": 1,
     "metadata": {},
     "source": [
      "Robot Test"
     ]
    },
    {
     "cell_type": "code",
     "collapsed": false,
     "input": [
      "import time\n",
      "from python.mbedrpc import *\n",
      "import threading"
     ],
     "language": "python",
     "metadata": {},
     "outputs": [],
     "prompt_number": 7
    },
    {
     "cell_type": "code",
     "collapsed": false,
     "input": [
      "class Motor:\n",
      "    def __init__(self, a1, a2):\n",
      "        self.a1=a1\n",
      "        self.a2=a2\n",
      "    def cmd(self, speed):\n",
      "        if speed >=0:\n",
      "            self.a1.write(speed)\n",
      "            self.a2.write(0)\n",
      "        else:\n",
      "            self.a1.write(0)\n",
      "            self.a2.write(-speed)\n",
      "class Robot:\n",
      "    def __init__(self, dev='/dev/ttyACM0'):\n",
      "        self.mbed=SerialRPC(dev, 115200)\n",
      "        a1=PwmOut(self.mbed, p21)\n",
      "        a2=PwmOut(self.mbed, p22)\n",
      "        b1=PwmOut(self.mbed, p23)\n",
      "        b2=PwmOut(self.mbed, p24)\n",
      "        self.m_right = Motor(a1, a2)\n",
      "        self.m_left = Motor(b1, b2)\n",
      "        self.enabled=True\n",
      "        self.last_left=0\n",
      "        self.last_right=0\n",
      "        self.sensors=[]\n",
      "        for i in (p20,p19,p18,p17,p16,p15):\n",
      "            self.sensors.append(AnalogIn(self.mbed, i))\n",
      "        self.rlock=threading.Lock()\n",
      "    def enable(self):\n",
      "        self.rlock.acquire()\n",
      "        self.enabled=True\n",
      "        self._cmd(self.last_left, self.last_right)\n",
      "        self.rlock.release()\n",
      "    def disable(self):\n",
      "        self.rlock.acquire()\n",
      "        self.enabled=False\n",
      "        self._cmd(self.last_left, self.last_right)\n",
      "        self.rlock.release()\n",
      "    def drive(self, left, right):\n",
      "        self.rlock.acquire()\n",
      "        self._cmd(left, right)\n",
      "        self.rlock.release()\n",
      "    def cmd(self, left, right):\n",
      "        self.rlock.acquire()\n",
      "        self._cmd(left, right)\n",
      "        self.rlock.release()\n",
      "    def _cmd(self, left, right):\n",
      "        self.last_left=left\n",
      "        self.last_right=right\n",
      "        if self.enabled:\n",
      "            self.m_left.cmd(-left)\n",
      "            self.m_right.cmd(right)\n",
      "        else:\n",
      "            self.m_left.cmd(0)\n",
      "            self.m_right.cmd(0)\n",
      "    def read_sensors(self):\n",
      "        \"\"\" returns an array of the line sensor reflectance values\n",
      "        \"\"\"\n",
      "        self.rlock.acquire()\n",
      "        def read(sensor): return sensor.read()\n",
      "        retu=map(read, self.sensors)\n",
      "        self.rlock.release()\n",
      "        return retud"
     ],
     "language": "python",
     "metadata": {},
     "outputs": [],
     "prompt_number": 8
    },
    {
     "cell_type": "code",
     "collapsed": false,
     "input": [
      "ls /dev/ttyACM*"
     ],
     "language": "python",
     "metadata": {},
     "outputs": [
      {
       "output_type": "stream",
       "stream": "stdout",
       "text": [
        "\u001b[0m\u001b[40;33;01m/dev/ttyACM0\u001b[0m\r\n"
       ]
      }
     ],
     "prompt_number": 9
    },
    {
     "cell_type": "code",
     "collapsed": false,
     "input": [
      "r0=Robot('/dev/ttyACM0')"
     ],
     "language": "python",
     "metadata": {},
     "outputs": [],
     "prompt_number": 10
    },
    {
     "cell_type": "code",
     "collapsed": false,
     "input": [
      "r0.cmd(.1,.1)"
     ],
     "language": "python",
     "metadata": {},
     "outputs": [],
     "prompt_number": 11
    },
    {
     "cell_type": "code",
     "collapsed": false,
     "input": [
      "r0.cmd(0,0)"
     ],
     "language": "python",
     "metadata": {},
     "outputs": [],
     "prompt_number": 12
    },
    {
     "cell_type": "markdown",
     "metadata": {},
     "source": [
      "Now, Restart the kernel to release ownership of the serial device:\n",
      "\n",
      "File > Kernel > Restart"
     ]
    },
    {
     "cell_type": "code",
     "collapsed": false,
     "input": [],
     "language": "python",
     "metadata": {},
     "outputs": [],
     "prompt_number": 6
    },
    {
     "cell_type": "code",
     "collapsed": false,
     "input": [],
     "language": "python",
     "metadata": {},
     "outputs": []
    },
    {
     "cell_type": "code",
     "collapsed": false,
     "input": [],
     "language": "python",
     "metadata": {},
     "outputs": []
    },
    {
     "cell_type": "code",
     "collapsed": false,
     "input": [],
     "language": "python",
     "metadata": {},
     "outputs": []
    },
    {
     "cell_type": "code",
     "collapsed": false,
     "input": [],
     "language": "python",
     "metadata": {},
     "outputs": []
    },
    {
     "cell_type": "code",
     "collapsed": false,
     "input": [],
     "language": "python",
     "metadata": {},
     "outputs": []
    },
    {
     "cell_type": "code",
     "collapsed": false,
     "input": [],
     "language": "python",
     "metadata": {},
     "outputs": []
    },
    {
     "cell_type": "code",
     "collapsed": false,
     "input": [],
     "language": "python",
     "metadata": {},
     "outputs": []
    },
    {
     "cell_type": "code",
     "collapsed": false,
     "input": [],
     "language": "python",
     "metadata": {},
     "outputs": []
    },
    {
     "cell_type": "code",
     "collapsed": false,
     "input": [],
     "language": "python",
     "metadata": {},
     "outputs": []
    }
   ],
   "metadata": {}
  }
 ]
}